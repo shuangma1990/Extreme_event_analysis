{
 "cells": [
  {
   "cell_type": "code",
   "execution_count": 6,
   "id": "1908c511",
   "metadata": {},
   "outputs": [
    {
     "name": "stdout",
     "output_type": "stream",
     "text": [
      "Deleted hidden file: /Volumes/easystore/ERA5_single_level_2mTemp/._era5_2m_temperature_2022.nc\n",
      "Deleted hidden file: /Volumes/easystore/ERA5_single_level_2mTemp/._era5_2m_temperature_2021.nc\n",
      "Deleted hidden file: /Volumes/easystore/ERA5_single_level_2mTemp/._era5_2m_temperature_2023.nc\n",
      "Deleted hidden file: /Volumes/easystore/ERA5_single_level_2mTemp/._era5_2m_temperature_1982.nc\n",
      "Deleted hidden file: /Volumes/easystore/ERA5_single_level_2mTemp/._era5_2m_temperature_1966.nc\n",
      "Deleted hidden file: /Volumes/easystore/ERA5_single_level_2mTemp/._era5_2m_temperature_1978.nc\n",
      "Deleted hidden file: /Volumes/easystore/ERA5_single_level_2mTemp/._era5_2m_temperature_1980.nc\n",
      "Deleted hidden file: /Volumes/easystore/ERA5_single_level_2mTemp/._era5_2m_temperature_1965.nc\n",
      "Deleted hidden file: /Volumes/easystore/ERA5_single_level_2mTemp/._era5_2m_temperature_1985.nc\n",
      "Deleted hidden file: /Volumes/easystore/ERA5_single_level_2mTemp/._era5_2m_temperature_1986.nc\n",
      "Deleted hidden file: /Volumes/easystore/ERA5_single_level_2mTemp/._era5_2m_temperature_1987.nc\n",
      "Deleted hidden file: /Volumes/easystore/ERA5_single_level_2mTemp/._era5_2m_temperature_1988.nc\n",
      "Deleted hidden file: /Volumes/easystore/ERA5_single_level_2mTemp/._era5_2m_temperature_1989.nc\n",
      "Deleted hidden file: /Volumes/easystore/ERA5_single_level_2mTemp/._era5_2m_temperature_1961.nc\n",
      "Deleted hidden file: /Volumes/easystore/ERA5_single_level_2mTemp/._era5_2m_temperature_1963.nc\n",
      "Deleted hidden file: /Volumes/easystore/ERA5_single_level_2mTemp/._era5_2m_temperature_1964.nc\n",
      "Deleted hidden file: /Volumes/easystore/ERA5_single_level_2mTemp/._era5_2m_temperature_1962.nc\n",
      "Deleted hidden file: /Volumes/easystore/ERA5_single_level_2mTemp/._Greenhouse Gas Inventory Unit Supervisor_5115.pdf\n",
      "Deleted hidden file: /Volumes/easystore/ERA5_single_level_2mTemp/._era5_2m_temperature_1991.da73wLsm.nc.part\n",
      "Deleted hidden file: /Volumes/easystore/ERA5_single_level_2mTemp/._era5_2m_temperature_2018.nc\n",
      "Deleted hidden file: /Volumes/easystore/ERA5_single_level_2mTemp/._era5_2m_temperature_2019.nc\n",
      "Deleted hidden file: /Volumes/easystore/ERA5_single_level_2mTemp/._era5_2m_temperature_2020.nc\n",
      "All hidden files deleted.\n"
     ]
    }
   ],
   "source": [
    "# delete all the hidden files\n",
    "import os\n",
    "\n",
    "# Define the directory where you want to delete hidden files\n",
    "directory = '/Volumes/easystore/ERA5_single_level_2mTemp/'\n",
    "\n",
    "# Loop through all files in the directory\n",
    "for file_name in os.listdir(directory):\n",
    "    # Check if the file starts with a dot (.), indicating it's a hidden file\n",
    "    if file_name.startswith('.'):\n",
    "        file_path = os.path.join(directory, file_name)\n",
    "        try:\n",
    "            # Check if it's a file (not a directory) and delete it\n",
    "            if os.path.isfile(file_path):\n",
    "                os.remove(file_path)\n",
    "                print(f\"Deleted hidden file: {file_path}\")\n",
    "        except Exception as e:\n",
    "            print(f\"Error deleting {file_path}: {e}\")\n",
    "\n",
    "print(\"All hidden files deleted.\")\n"
   ]
  },
  {
   "cell_type": "code",
   "execution_count": 14,
   "id": "83d365d3",
   "metadata": {},
   "outputs": [
    {
     "name": "stdout",
     "output_type": "stream",
     "text": [
      "File /Volumes/easystore/ERA5_single_level_2mTemp/output/processed_era5_2m_temperature_2020.nc exists, skipping...\n",
      "File /Volumes/easystore/ERA5_single_level_2mTemp/output/processed_era5_2m_temperature_2021.nc exists, skipping...\n",
      "File /Volumes/easystore/ERA5_single_level_2mTemp/output/processed_era5_2m_temperature_2022.nc exists, skipping...\n",
      "File /Volumes/easystore/ERA5_single_level_2mTemp/output/processed_era5_2m_temperature_2019.nc exists, skipping...\n",
      "File /Volumes/easystore/ERA5_single_level_2mTemp/output/processed_era5_2m_temperature_2024.nc does not exist, processing...\n",
      "Processing /Volumes/easystore/ERA5_single_level_2mTemp/era5_2m_temperature_2024.nc to daily!\n"
     ]
    },
    {
     "name": "stderr",
     "output_type": "stream",
     "text": [
      "cdi  warning (cdfInqContents): Coordinates variable number can't be assigned!\n",
      "cdi  warning (cdfInqContents): Coordinates variable expver can't be assigned!\n"
     ]
    },
    {
     "name": "stdout",
     "output_type": "stream",
     "text": [
      "Processing /Volumes/easystore/ERA5_single_level_2mTemp/era5_2m_temperature_2024.nc to 05deg!\n",
      "cdo    remapbil: Bilinear weights from lonlat (1440x721) to lonlat (360x180) grid\n",
      "Processed /Volumes/easystore/ERA5_single_level_2mTemp/era5_2m_temperature_2024.nc successfully!\n",
      "File /Volumes/easystore/ERA5_single_level_2mTemp/output/processed_era5_2m_temperature_2023.nc exists, skipping...\n",
      "File /Volumes/easystore/ERA5_single_level_2mTemp/output/processed_._era5_2m_temperature_2024.nc does not exist, processing...\n",
      "Processing /Volumes/easystore/ERA5_single_level_2mTemp/._era5_2m_temperature_2024.nc to daily!\n"
     ]
    },
    {
     "name": "stderr",
     "output_type": "stream",
     "text": [
      "cdo    daymean: Open failed on >/Volumes/easystore/ERA5_single_level_2mTemp/._era5_2m_temperature_2024.nc<\n",
      "                Unsupported file type\n"
     ]
    },
    {
     "name": "stdout",
     "output_type": "stream",
     "text": [
      "Error processing /Volumes/easystore/ERA5_single_level_2mTemp/._era5_2m_temperature_2024.nc: Command '['cdo', 'daymean', '/Volumes/easystore/ERA5_single_level_2mTemp/._era5_2m_temperature_2024.nc', '/Volumes/easystore/ERA5_single_level_2mTemp/output/tmp_daily.nc']' returned non-zero exit status 1.\n",
      "File /Volumes/easystore/ERA5_single_level_2mTemp/output/processed_era5_2m_temperature_1982.nc exists, skipping...\n",
      "File /Volumes/easystore/ERA5_single_level_2mTemp/output/processed_era5_2m_temperature_1966.nc exists, skipping...\n",
      "File /Volumes/easystore/ERA5_single_level_2mTemp/output/processed_era5_2m_temperature_1978.nc exists, skipping...\n",
      "File /Volumes/easystore/ERA5_single_level_2mTemp/output/processed_era5_2m_temperature_1968.nc exists, skipping...\n",
      "File /Volumes/easystore/ERA5_single_level_2mTemp/output/processed_era5_2m_temperature_1975.nc exists, skipping...\n",
      "File /Volumes/easystore/ERA5_single_level_2mTemp/output/processed_era5_2m_temperature_1977.nc exists, skipping...\n",
      "File /Volumes/easystore/ERA5_single_level_2mTemp/output/processed_era5_2m_temperature_1981.nc exists, skipping...\n",
      "File /Volumes/easystore/ERA5_single_level_2mTemp/output/processed_era5_2m_temperature_1965.nc exists, skipping...\n",
      "File /Volumes/easystore/ERA5_single_level_2mTemp/output/processed_era5_2m_temperature_1985.nc exists, skipping...\n",
      "File /Volumes/easystore/ERA5_single_level_2mTemp/output/processed_era5_2m_temperature_1983.nc exists, skipping...\n",
      "File /Volumes/easystore/ERA5_single_level_2mTemp/output/processed_era5_2m_temperature_1986.nc exists, skipping...\n",
      "File /Volumes/easystore/ERA5_single_level_2mTemp/output/processed_era5_2m_temperature_1984.nc exists, skipping...\n",
      "File /Volumes/easystore/ERA5_single_level_2mTemp/output/processed_era5_2m_temperature_1980.nc exists, skipping...\n",
      "File /Volumes/easystore/ERA5_single_level_2mTemp/output/processed_era5_2m_temperature_1987.nc exists, skipping...\n",
      "File /Volumes/easystore/ERA5_single_level_2mTemp/output/processed_era5_2m_temperature_1988.nc exists, skipping...\n",
      "File /Volumes/easystore/ERA5_single_level_2mTemp/output/processed_era5_2m_temperature_1976.nc exists, skipping...\n",
      "File /Volumes/easystore/ERA5_single_level_2mTemp/output/processed_era5_2m_temperature_1971.nc exists, skipping...\n",
      "File /Volumes/easystore/ERA5_single_level_2mTemp/output/processed_era5_2m_temperature_1989.nc exists, skipping...\n",
      "File /Volumes/easystore/ERA5_single_level_2mTemp/output/processed_era5_2m_temperature_1969.nc exists, skipping...\n",
      "File /Volumes/easystore/ERA5_single_level_2mTemp/output/processed_era5_2m_temperature_1974.nc exists, skipping...\n",
      "File /Volumes/easystore/ERA5_single_level_2mTemp/output/processed_era5_2m_temperature_1961.nc exists, skipping...\n",
      "File /Volumes/easystore/ERA5_single_level_2mTemp/output/processed_era5_2m_temperature_1973.nc exists, skipping...\n",
      "File /Volumes/easystore/ERA5_single_level_2mTemp/output/processed_era5_2m_temperature_1972.nc exists, skipping...\n",
      "File /Volumes/easystore/ERA5_single_level_2mTemp/output/processed_era5_2m_temperature_1979.nc exists, skipping...\n",
      "File /Volumes/easystore/ERA5_single_level_2mTemp/output/processed_era5_2m_temperature_1962.nc exists, skipping...\n",
      "File /Volumes/easystore/ERA5_single_level_2mTemp/output/processed_era5_2m_temperature_1970.nc exists, skipping...\n",
      "File /Volumes/easystore/ERA5_single_level_2mTemp/output/processed_era5_2m_temperature_1964.nc exists, skipping...\n",
      "File /Volumes/easystore/ERA5_single_level_2mTemp/output/processed_era5_2m_temperature_1967.nc exists, skipping...\n",
      "File /Volumes/easystore/ERA5_single_level_2mTemp/output/processed_era5_2m_temperature_1991.nc does not exist, processing...\n",
      "Processing /Volumes/easystore/ERA5_single_level_2mTemp/era5_2m_temperature_1991.nc to daily!\n",
      "Error processing /Volumes/easystore/ERA5_single_level_2mTemp/era5_2m_temperature_1991.nc: Command '['cdo', 'daymean', '/Volumes/easystore/ERA5_single_level_2mTemp/era5_2m_temperature_1991.nc', '/Volumes/easystore/ERA5_single_level_2mTemp/output/tmp_daily.nc']' returned non-zero exit status 1.\n",
      "File /Volumes/easystore/ERA5_single_level_2mTemp/output/processed_era5_2m_temperature_1990.nc exists, skipping...\n",
      "File /Volumes/easystore/ERA5_single_level_2mTemp/output/processed_era5_2m_temperature_1963.nc exists, skipping...\n",
      "File /Volumes/easystore/ERA5_single_level_2mTemp/output/processed_era5_2m_temperature_2018.nc exists, skipping...\n"
     ]
    },
    {
     "name": "stderr",
     "output_type": "stream",
     "text": [
      "cdo    daymean: Open failed on >/Volumes/easystore/ERA5_single_level_2mTemp/era5_2m_temperature_1991.nc<\n",
      "                Unknown Error\n"
     ]
    }
   ],
   "source": [
    "# convert hourly to daily, and then regrid from 0.25 to 0.5\n",
    "# if a year has been processed, skip that year\n",
    "\n",
    "import os\n",
    "import subprocess\n",
    "\n",
    "# Define the input and output directories\n",
    "input_dir = '/Volumes/easystore/ERA5_single_level_2mTemp/'  # Directory with your original .nc files\n",
    "output_dir = '/Volumes/easystore/ERA5_single_level_2mTemp/output/'  # Directory where processed files will be saved\n",
    "\n",
    "# Ensure output directory exists\n",
    "os.makedirs(output_dir, exist_ok=True)\n",
    "\n",
    "# Define the desired resolution and grid for regridding\n",
    "target_grid = 'r360x180'  # 0.5 degree resolution\n",
    "\n",
    "# Function to execute CDO commands\n",
    "def process_file(input_file, output_file):\n",
    "    try:\n",
    "        # Create temporary file for daily mean data\n",
    "        tmp_daily_file = os.path.join(output_dir, 'tmp_daily.nc')\n",
    "        \n",
    "        print(f\"Processing {input_file} to daily!\")\n",
    "        # Step 1: Calculate daily means\n",
    "        daymean_cmd = ['cdo', 'daymean', input_file, tmp_daily_file]\n",
    "        subprocess.run(daymean_cmd, check=True)\n",
    "        \n",
    "        print(f\"Processing {input_file} to 05deg!\")\n",
    "        # Step 2: Regrid the data from 0.25 degree to 0.5 degree\n",
    "        # use remap_bil for non-conservative variables for a smoother transition\n",
    "        # use remap_con when conserving the total sum (e.g., mass, fluxes) is important\n",
    "        remap_cmd = ['cdo', 'remapbil,' + target_grid, tmp_daily_file, output_file]\n",
    "        subprocess.run(remap_cmd, check=True)\n",
    "        \n",
    "        # Clean up the temporary file\n",
    "        os.remove(tmp_daily_file)\n",
    "        \n",
    "        print(f\"Processed {input_file} successfully!\")\n",
    "    \n",
    "    except subprocess.CalledProcessError as e:\n",
    "        print(f\"Error processing {input_file}: {e}\")\n",
    "\n",
    "# Loop through all NetCDF files in the input directory\n",
    "for file_name in os.listdir(input_dir):\n",
    "    if file_name.endswith('.nc'):  # Only process .nc files\n",
    "        input_file = os.path.join(input_dir, file_name)\n",
    "        output_file = os.path.join(output_dir, f\"processed_{file_name}\")\n",
    "        try:\n",
    "            with open(output_file, 'r'):\n",
    "                print(f\"File {output_file} exists, skipping...\")\n",
    "                continue  # Move to the next file if it exists\n",
    "        except FileNotFoundError:\n",
    "            print(f\"File {output_file} does not exist, processing...\")\n",
    "        \n",
    "        process_file(input_file, output_file)\n"
   ]
  },
  {
   "cell_type": "code",
   "execution_count": null,
   "id": "cf0c6801",
   "metadata": {},
   "outputs": [],
   "source": []
  }
 ],
 "metadata": {
  "kernelspec": {
   "display_name": "Python 3.11_ERA5",
   "language": "python",
   "name": "py3.11_era5"
  },
  "language_info": {
   "codemirror_mode": {
    "name": "ipython",
    "version": 3
   },
   "file_extension": ".py",
   "mimetype": "text/x-python",
   "name": "python",
   "nbconvert_exporter": "python",
   "pygments_lexer": "ipython3",
   "version": "3.11.10"
  }
 },
 "nbformat": 4,
 "nbformat_minor": 5
}
