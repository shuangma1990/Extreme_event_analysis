{
 "cells": [
  {
   "cell_type": "code",
   "execution_count": null,
   "id": "1755c576",
   "metadata": {},
   "outputs": [],
   "source": [
    "# I have global temperature data from 1961 to 1990 in .nc format, called ‘combined_moving_avg_1961_1990.nc’. For each pixel, and for each calendar day, calculate the 90% percentile of daily maximum temperatures (Tmax) from 1961 to 1990, save the final result into a 2D .nc file called ‘heatwave_threshold_map.nc’\n",
    "\n",
    "import xarray as xr\n",
    "import numpy as np\n",
    "\n",
    "# Load the NetCDF file\n",
    "file_path = '/path/to/combined_moving_avg_1961_1990.nc'\n",
    "ds = xr.open_dataset(file_path)\n",
    "\n",
    "# Assume that 'tmax' is the name of the variable containing daily maximum temperatures\n",
    "# If it's named differently, change 'tmax' to the correct variable name\n",
    "tmax = ds['tmax']\n",
    "\n",
    "# Ensure that time is in a datetime format\n",
    "tmax['time'] = xr.cftime_range(start='1961-01-01', periods=len(tmax['time']), freq='D')\n",
    "\n",
    "# Calculate the day of the year (1 to 366) for each time point, ignoring leap years\n",
    "# Here, `tmax['time'].dt.dayofyear` generates a new dimension 'dayofyear'\n",
    "tmax_dayofyear = tmax.groupby('time.dayofyear')\n",
    "\n",
    "# Compute the 90th percentile for each pixel for each calendar day over all years\n",
    "tmax_90_percentile = tmax_dayofyear.reduce(np.percentile, q=90, dim='time')\n",
    "\n",
    "# The result will be a 3D array (dayofyear, lat, lon), so we'll average over the calendar days\n",
    "# to generate a 2D map of heatwave thresholds (90th percentile of Tmax) for each pixel\n",
    "\n",
    "# Save the final result as a new 2D NetCDF file\n",
    "output_file = '/path/to/heatwave_threshold_map.nc'\n",
    "tmax_90_percentile.to_netcdf(output_file)\n",
    "\n",
    "print(f\"Heatwave threshold map saved to {output_file}\")\n"
   ]
  }
 ],
 "metadata": {
  "kernelspec": {
   "display_name": "Python 3.11_ERA5",
   "language": "python",
   "name": "py3.11_era5"
  },
  "language_info": {
   "codemirror_mode": {
    "name": "ipython",
    "version": 3
   },
   "file_extension": ".py",
   "mimetype": "text/x-python",
   "name": "python",
   "nbconvert_exporter": "python",
   "pygments_lexer": "ipython3",
   "version": "3.11.10"
  }
 },
 "nbformat": 4,
 "nbformat_minor": 5
}
