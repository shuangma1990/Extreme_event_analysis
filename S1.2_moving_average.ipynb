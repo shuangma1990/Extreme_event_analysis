{
 "cells": [
  {
   "cell_type": "code",
   "execution_count": 5,
   "id": "a3921440",
   "metadata": {},
   "outputs": [],
   "source": [
    "# Read .nc files that have daily temperature at 0.5 degree resolution saved in individual years, attach data from continuous years together (1961-1990), calculate 15 day moving average temperatures for each day, and save the final data to one new .nc file instead of individual years. \n",
    "\n",
    "import os\n",
    "import xarray as xr\n",
    "import numpy as np\n",
    "\n",
    "# Define the input directory where the yearly .nc files are located and the output file path\n",
    "input_dir = '/Volumes/easystore/ERA5_single_level_2mTemp/output/'  # Directory containing yearly .nc files\n",
    "output_file = '/Users/shuangma/RESEARCH/WORKFLOW/A1_EXTREME_DATA_ANALYSIS/S1.2_output/combined_moving_avg_1961_1990.nc'  # File where the combined output will be saved\n",
    "\n",
    "# Define the range of years to process\n",
    "start_year = 1961\n",
    "end_year = 1990\n",
    "\n",
    "# List to hold the yearly datasets\n",
    "datasets = []\n",
    "\n",
    "# Load the land-sea mask\n",
    "land_sea_mask = xr.open_dataset('/Users/shuangma/RESEARCH/WORKFLOW/A1_ToolBox/A1_Regridding/CARDAMOM_regrid/CARDAMOM-MAPS_05deg_LAND_SEA_MASK.nc')\n",
    "\n",
    "# Assuming that the mask variable is called 'mask' and land has a value of 1\n",
    "# Change 'mask' if your variable is named differently\n",
    "mask = land_sea_mask['data']\n",
    "\n",
    "# Ensure the mask has the same dimensions as the temperature data (lat, lon)\n",
    "# You may need to interpolate or regrid the mask to match the resolution of your temperature data\n",
    "# Here, we assume they already match"
   ]
  },
  {
   "cell_type": "code",
   "execution_count": 6,
   "id": "79bb4e73",
   "metadata": {},
   "outputs": [
    {
     "name": "stdout",
     "output_type": "stream",
     "text": [
      "Processing /Volumes/easystore/ERA5_single_level_2mTemp/output/processed_era5_2m_temperature_1961.nc\n",
      "Processing /Volumes/easystore/ERA5_single_level_2mTemp/output/processed_era5_2m_temperature_1962.nc\n",
      "Processing /Volumes/easystore/ERA5_single_level_2mTemp/output/processed_era5_2m_temperature_1963.nc\n",
      "Processing /Volumes/easystore/ERA5_single_level_2mTemp/output/processed_era5_2m_temperature_1964.nc\n",
      "Processing /Volumes/easystore/ERA5_single_level_2mTemp/output/processed_era5_2m_temperature_1965.nc\n",
      "Processing /Volumes/easystore/ERA5_single_level_2mTemp/output/processed_era5_2m_temperature_1966.nc\n",
      "Processing /Volumes/easystore/ERA5_single_level_2mTemp/output/processed_era5_2m_temperature_1967.nc\n",
      "Processing /Volumes/easystore/ERA5_single_level_2mTemp/output/processed_era5_2m_temperature_1968.nc\n",
      "Processing /Volumes/easystore/ERA5_single_level_2mTemp/output/processed_era5_2m_temperature_1969.nc\n",
      "Processing /Volumes/easystore/ERA5_single_level_2mTemp/output/processed_era5_2m_temperature_1970.nc\n",
      "Processing /Volumes/easystore/ERA5_single_level_2mTemp/output/processed_era5_2m_temperature_1971.nc\n",
      "Processing /Volumes/easystore/ERA5_single_level_2mTemp/output/processed_era5_2m_temperature_1972.nc\n",
      "Processing /Volumes/easystore/ERA5_single_level_2mTemp/output/processed_era5_2m_temperature_1973.nc\n",
      "Processing /Volumes/easystore/ERA5_single_level_2mTemp/output/processed_era5_2m_temperature_1974.nc\n",
      "Processing /Volumes/easystore/ERA5_single_level_2mTemp/output/processed_era5_2m_temperature_1975.nc\n",
      "Processing /Volumes/easystore/ERA5_single_level_2mTemp/output/processed_era5_2m_temperature_1976.nc\n",
      "Processing /Volumes/easystore/ERA5_single_level_2mTemp/output/processed_era5_2m_temperature_1977.nc\n",
      "Processing /Volumes/easystore/ERA5_single_level_2mTemp/output/processed_era5_2m_temperature_1978.nc\n",
      "Processing /Volumes/easystore/ERA5_single_level_2mTemp/output/processed_era5_2m_temperature_1979.nc\n",
      "Processing /Volumes/easystore/ERA5_single_level_2mTemp/output/processed_era5_2m_temperature_1980.nc\n",
      "Processing /Volumes/easystore/ERA5_single_level_2mTemp/output/processed_era5_2m_temperature_1981.nc\n",
      "Processing /Volumes/easystore/ERA5_single_level_2mTemp/output/processed_era5_2m_temperature_1982.nc\n",
      "Processing /Volumes/easystore/ERA5_single_level_2mTemp/output/processed_era5_2m_temperature_1983.nc\n",
      "Processing /Volumes/easystore/ERA5_single_level_2mTemp/output/processed_era5_2m_temperature_1984.nc\n",
      "Processing /Volumes/easystore/ERA5_single_level_2mTemp/output/processed_era5_2m_temperature_1985.nc\n",
      "Processing /Volumes/easystore/ERA5_single_level_2mTemp/output/processed_era5_2m_temperature_1986.nc\n",
      "Processing /Volumes/easystore/ERA5_single_level_2mTemp/output/processed_era5_2m_temperature_1987.nc\n",
      "Processing /Volumes/easystore/ERA5_single_level_2mTemp/output/processed_era5_2m_temperature_1988.nc\n",
      "Processing /Volumes/easystore/ERA5_single_level_2mTemp/output/processed_era5_2m_temperature_1989.nc\n",
      "Processing /Volumes/easystore/ERA5_single_level_2mTemp/output/processed_era5_2m_temperature_1990.nc\n"
     ]
    }
   ],
   "source": [
    "# Loop over each year and load the .nc file into an xarray Dataset\n",
    "for year in range(start_year, end_year + 1):\n",
    "    file_path = os.path.join(input_dir, f'processed_era5_2m_temperature_{year}.nc')  # Assuming the filenames follow this pattern\n",
    "    if os.path.exists(file_path):\n",
    "        print(f\"Processing {file_path}\")\n",
    "        ds = xr.open_dataset(file_path)\n",
    "        datasets.append(ds)\n",
    "    else:\n",
    "        print(f\"File for {year} not found at {file_path}\")\n",
    "\n"
   ]
  },
  {
   "cell_type": "code",
   "execution_count": null,
   "id": "d0cec1b4",
   "metadata": {},
   "outputs": [
    {
     "name": "stdout",
     "output_type": "stream",
     "text": [
      "Processing /Volumes/easystore/ERA5_single_level_2mTemp/output/processed_era5_2m_temperature_1961.nc\n"
     ]
    }
   ],
   "source": [
    "#     year=1961\n",
    "#     file_path = os.path.join(input_dir, f'processed_era5_2m_temperature_{year}.nc')  # Assuming the filenames follow this pattern\n",
    "#     print(f\"Processing {file_path}\")\n",
    "#     ds = xr.open_dataset(file_path)\n",
    "#     t2m = ds['t2m']\n",
    "#     masked_temp_data = t2m.where(mask == 1, np.nan)\n",
    "#     masked_temp_data\n",
    "#     #datasets.append(masked_temp_data)"
   ]
  },
  {
   "cell_type": "code",
   "execution_count": 7,
   "id": "61fe1f1d",
   "metadata": {},
   "outputs": [],
   "source": [
    "# Combine the datasets along the time dimension  # this is taking a long time >15 min\n",
    "combined_ds = xr.concat(datasets, dim='time')"
   ]
  },
  {
   "cell_type": "code",
   "execution_count": null,
   "id": "6f4c0700",
   "metadata": {},
   "outputs": [],
   "source": [
    "# # Assuming 'datasets' is your list of xarray Datasets\n",
    "# # Apply Dask chunking to each dataset in the list to improve performance\n",
    "# dask_datasets = [ds.chunk({'time': 365}) for ds in datasets]  # You can adjust chunk size based on available memory\n",
    "\n",
    "# # Concatenate the datasets along the time dimension using Dask\n",
    "# combined_ds = xr.concat(dask_datasets, dim='time')\n",
    "\n",
    "# # Optionally trigger computation by calling load()\n",
    "# combined_ds.load()  # This will load the data, but it's done in chunks"
   ]
  },
  {
   "cell_type": "code",
   "execution_count": null,
   "id": "e41fc45e",
   "metadata": {},
   "outputs": [],
   "source": [
    "# Calculate the 15-day moving average of the temperature variable\n",
    "# Assuming the temperature variable is named 'temperature', change this if needed\n",
    "temperature = combined_ds['t2m']\n",
    "\n",
    "# Calculate the rolling mean (moving average) with a 15-day window\n",
    "moving_avg_temperature = temperature.rolling(time=15, center=True).mean()\n",
    "\n",
    "# Attach the new rolling average as a variable to the dataset\n",
    "combined_ds['temperature_15day_avg'] = moving_avg_temperature\n",
    "\n",
    "# Save the final dataset to a new .nc file\n",
    "combined_ds.to_netcdf(output_file)\n",
    "\n",
    "print(f\"Combined and moving averaged data saved to {output_file}\")"
   ]
  },
  {
   "cell_type": "code",
   "execution_count": null,
   "id": "c6071458",
   "metadata": {},
   "outputs": [],
   "source": []
  }
 ],
 "metadata": {
  "kernelspec": {
   "display_name": "Python 3.11_ERA5",
   "language": "python",
   "name": "py3.11_era5"
  },
  "language_info": {
   "codemirror_mode": {
    "name": "ipython",
    "version": 3
   },
   "file_extension": ".py",
   "mimetype": "text/x-python",
   "name": "python",
   "nbconvert_exporter": "python",
   "pygments_lexer": "ipython3",
   "version": "3.11.10"
  }
 },
 "nbformat": 4,
 "nbformat_minor": 5
}
